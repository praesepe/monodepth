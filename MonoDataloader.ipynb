{
 "cells": [
  {
   "cell_type": "code",
   "execution_count": 87,
   "metadata": {},
   "outputs": [],
   "source": [
    "import torch\n",
    "import torchvision\n",
    "import torchvision.transforms as transforms\n",
    "import matplotlib.pyplot as plt\n",
    "import numpy as np\n",
    "from torch.autograd import Variable\n",
    "import torch.nn as nn\n",
    "import torch.nn.functional as F\n",
    "import torch.optim as optim\n",
    "import math\n",
    "import argparse\n",
    "from tensorboardX import SummaryWriter\n",
    "import argparse\n",
    "import os\n",
    "import os.path\n",
    "import matplotlib.pyplot as plt\n",
    "import matplotlib.image as mpimg\n",
    "from PIL import Image\n",
    "import import_ipynb\n",
    "import torch.utils.data as data\n",
    "from MonodepthModel import *\n",
    "os.environ['TF_CPP_MIN_LOG_LEVEL']='1'"
   ]
  },
  {
   "cell_type": "code",
   "execution_count": 88,
   "metadata": {},
   "outputs": [],
   "source": [
    "def get_transform():\n",
    "    return transforms.Compose([\n",
    "        transforms.Resize((256,512)),\n",
    "        transforms.ToTensor(),\n",
    "        transforms.Normalize((0.35675976, 0.37380189, 0.3764753), (0.32064945, 0.32098866, 0.32325324))\n",
    "    ])"
   ]
  },
  {
   "cell_type": "code",
   "execution_count": 89,
   "metadata": {},
   "outputs": [],
   "source": [
    "class myImageFolder(data.Dataset):\n",
    "    def __init__(self, left, right, training):\n",
    "        self.right = right\n",
    "        self.left = left\n",
    "        self.training = training\n",
    "        \n",
    "    def __getitem__(self, index):\n",
    "        left = self.left[index]\n",
    "        right = self.right[index]\n",
    "        left_image = Image.open(left).convert('RGB')\n",
    "        right_image = Image.open(right).convert('RGB')\n",
    "        \n",
    "        #augmentation\n",
    "        \n",
    "        #transforms\n",
    "        #process = get_transform()\n",
    "        left_image = process(left_image)\n",
    "        right_image = process(right_image)\n",
    "        \n",
    "        return left_image, right_image\n",
    "    def __len__(self):\n",
    "        return len(self.left)"
   ]
  },
  {
   "cell_type": "code",
   "execution_count": null,
   "metadata": {},
   "outputs": [],
   "source": []
  }
 ],
 "metadata": {
  "kernelspec": {
   "display_name": "Python 3",
   "language": "python",
   "name": "python3"
  },
  "language_info": {
   "codemirror_mode": {
    "name": "ipython",
    "version": 3
   },
   "file_extension": ".py",
   "mimetype": "text/x-python",
   "name": "python",
   "nbconvert_exporter": "python",
   "pygments_lexer": "ipython3",
   "version": "3.6.4"
  }
 },
 "nbformat": 4,
 "nbformat_minor": 2
}
